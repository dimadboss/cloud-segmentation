{
 "cells": [
  {
   "cell_type": "markdown",
   "metadata": {},
   "source": [
    "# Импорт библиотек"
   ]
  },
  {
   "cell_type": "code",
   "execution_count": 1,
   "metadata": {},
   "outputs": [],
   "source": [
    "from subprocess import check_output\n",
    "from tqdm import tqdm_notebook\n",
    "import os\n",
    "import pandas as pd\n",
    "import numpy as np\n",
    "import json"
   ]
  },
  {
   "cell_type": "markdown",
   "metadata": {},
   "source": [
    "# Настройка для работы с Kaggle API"
   ]
  },
  {
   "cell_type": "code",
   "execution_count": null,
   "metadata": {},
   "outputs": [],
   "source": [
    "!mkdir ~/.kaggle\n",
    "!touch ~/.kaggle/kaggle.json\n",
    "\n",
    "api_token = {\"username\":\"student\",\"key\":\"abcdef0123456789\"}\n",
    "\n",
    "with open('/root/.kaggle/kaggle.json', 'w') as file:\n",
    "    json.dump(api_token, file)\n",
    "    \n",
    "!chmod 600 ~/.kaggle/kaggle.json"
   ]
  },
  {
   "cell_type": "markdown",
   "metadata": {},
   "source": [
    "# Подготовка данных"
   ]
  },
  {
   "cell_type": "code",
   "execution_count": null,
   "metadata": {},
   "outputs": [],
   "source": [
    "subs = []\n",
    "files = os.listdir('/content/drive/My Drive/understanding_cloud_organization/new')"
   ]
  },
  {
   "cell_type": "code",
   "execution_count": null,
   "metadata": {},
   "outputs": [],
   "source": [
    "for i in tqdm_notebook(range(len(files)), total=len(files)):\n",
    "    subs.append(pd.read_csv('/content/drive/My Drive/understanding_cloud_organization/new/' + files[i], keep_default_na=True))\n",
    "    subs[i]['ImageId'] = subs[i]['Image_Label'].apply(lambda x: x.split('_')[0])\n",
    "    subs[i]['EncodedPixels'].replace({np.nan: ''}, inplace=True)"
   ]
  },
  {
   "cell_type": "markdown",
   "metadata": {},
   "source": [
    "# Вспомогательные функции для работы с масками"
   ]
  },
  {
   "cell_type": "code",
   "execution_count": null,
   "metadata": {},
   "outputs": [],
   "source": [
    "def rle2mask(rle, input_shape):\n",
    "    width, height = input_shape[:2]\n",
    "    mask = np.zeros( width*height ).astype(np.uint8)\n",
    "    array = np.asarray([int(x) for x in rle.split()])\n",
    "    starts = array[0::2]\n",
    "    lengths = array[1::2]\n",
    "    current_position = 0\n",
    "    for index, start in enumerate(starts):\n",
    "        mask[int(start):int(start+lengths[index])] = 1\n",
    "        current_position += lengths[index]\n",
    "    return mask.reshape(height, width).T"
   ]
  },
  {
   "cell_type": "code",
   "execution_count": null,
   "metadata": {},
   "outputs": [],
   "source": [
    "def mask2rle(img):\n",
    "    pixels= img.T.flatten()\n",
    "    pixels = np.concatenate([[0], pixels, [0]])\n",
    "    runs = np.where(pixels[1:] != pixels[:-1])[0] + 1\n",
    "    runs[1::2] -= runs[::2]\n",
    "    return ' '.join(str(x) for x in runs)"
   ]
  },
  {
   "cell_type": "markdown",
   "metadata": {},
   "source": [
    "# Объединение предсказаний и отправка на Kaggle для подсчета метрики"
   ]
  },
  {
   "cell_type": "code",
   "execution_count": null,
   "metadata": {},
   "outputs": [],
   "source": [
    "for i in range(len(subs)-1):\n",
    "    for j in range(i+1, len(subs)-1):\n",
    "        sub_1 = subs[i].copy(deep=True)\n",
    "        sub_2 = subs[j].copy(deep=True)\n",
    "        enc_pixels_list = []\n",
    "        for index, row in sub_1.iterrows():\n",
    "            mask_rle_1 = row['EncodedPixels']\n",
    "            mask_rle_2 = sub_2.loc[index, 'EncodedPixels']\n",
    "            \n",
    "            mask_1 = rle2mask(mask_rle_1, (350, 525, 3))\n",
    "            mask_2 = rle2mask(mask_rle_2, (350, 525, 3))\n",
    "            mask = np.logical_and(mask_1, mask_2)\n",
    "            enc_pixels_list.append(mask2rle(mask))\n",
    "\n",
    "        sub_2['EncodedPixels'] = enc_pixels_list\n",
    "        sub_2.drop('ImageId', axis=1, inplace=True)\n",
    "        sub_2.to_csv(f'blended_mask_{i}_{j}.csv', index=None)\n",
    "        fname = f'blended_mask_{i}_{j}.csv'\n",
    "        msg = f\"blend {files[i][28:]} + {files[j][28:]}\"\n",
    "        os.system(f\"kaggle competitions submit -c understanding_cloud_organization -f {fname} -m \\\"{msg}\\\"\")"
   ]
  }
 ],
 "metadata": {
  "kernelspec": {
   "display_name": "Python 3",
   "language": "python",
   "name": "python3"
  },
  "language_info": {
   "codemirror_mode": {
    "name": "ipython",
    "version": 3
   },
   "file_extension": ".py",
   "mimetype": "text/x-python",
   "name": "python",
   "nbconvert_exporter": "python",
   "pygments_lexer": "ipython3",
   "version": "3.7.3"
  }
 },
 "nbformat": 4,
 "nbformat_minor": 2
}
